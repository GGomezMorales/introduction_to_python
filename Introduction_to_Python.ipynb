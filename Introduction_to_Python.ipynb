{
  "cells": [
    {
      "cell_type": "markdown",
      "metadata": {},
      "source": [
        "**Autor: Gustavo Alonso Gomez Morales**"
      ]
    },
    {
      "cell_type": "markdown",
      "metadata": {
        "id": "rE5WZaCF78CQ"
      },
      "source": [
        "# **Estado del Arte**"
      ]
    },
    {
      "cell_type": "markdown",
      "metadata": {
        "id": "9DSTOBasm3Pm"
      },
      "source": [
        "## **[Google Colab](https://colab.research.google.com/)**\n",
        "\n",
        "Google Colab, o \"Colaboratory\", es una plataforma de desarrollo basada en la nube que permite a los usuarios escribir y ejecutar código Python en un navegador sin ninguna configuración previa. Es un entorno que se basa en [Jupyter Notebook](https://jupyter.org/), una herramienta ya establecida y muy popular entre ingenieros, científicos de datos, investigadores y educadores que necesitan combinar código, texto narrativo y visualizaciones en un solo documento interactivo. La integración de Google Colab con Jupyter es profunda, ya que Colab utiliza la infraestructura de Jupyter para ofrecer una interfaz de usuario familiar y accesible que facilita la experimentación, el análisis de datos y la colaboración entre usuarios.\n"
      ]
    },
    {
      "cell_type": "markdown",
      "metadata": {
        "id": "SgkeISl98InJ"
      },
      "source": [
        "## **[Python](https://www.python.org/)**\n",
        "\n",
        "Creado por Guido van Rossum y lanzado por primera vez en 1991, es uno de los lenguajes de programación más populares y de rápido crecimiento en el mundo. Este crecimiento se debe en gran parte a su diseño, que enfatiza la legibilidad del código, la simplicidad y la sintaxis que permite a los programadores expresar conceptos en menos líneas de código en comparación con otros lenguajes como C++ o Java. Python es altamente extensible, lo que permite a los usuarios y desarrolladores añadir módulos funcionales desarrollados en otros lenguajes de programación, aumentando así su funcionalidad y eficiencia. El principal objetivo detrás de su creación era desarrollar un lenguaje de programación que fuera tanto fácil de entender como de leer, haciendo hincapié en la legibilidad del código y reduciendo el coste de mantenimiento del programa. Van Rossum quería un lenguaje que pudiera ser usado por programadores profesionales y no profesionales por igual, y que permitiera a los usuarios escribir código claro para proyectos pequeños y grandes.\n",
        "\n",
        "El verdadero poder de Python radica en su extensa variedad de bibliotecas y frameworks, que ha sido un factor importante en su adopción en una amplia gama de disciplinas desde la web y desarrollo de software hasta la ciencia de datos, la inteligencia artificial y robótica. Bibliotecas como [NumPy](https://numpy.org/doc/stable/index.html#) y [Pandas](https://pandas.pydata.org/) han transformado la manipulación de datos y las operaciones matemáticas (básicas y complejas) asi como [Matplotlib](https://matplotlib.org/) es una excelente herramienta para la visualizacion de estos datos.\n",
        "\n",
        "Python ha hecho incursiones significativas tanto en la industria como en el mundo académico. En la industria, desde startups hasta gigantes tecnológicos como Google y Facebook, Python se utiliza para una variedad de aplicaciones, desde el desarrollo web hasta el análisis de sistemas complejos. Su capacidad para integrarse con otras tecnologías y su facilidad de uso lo convierten en una elección popular para prototipos rápidos y desarrollo de productos a escala. En el ámbito académico, Python es frecuentemente el lenguaje de programación preferido para la investigación computacional y la enseñanza de cursos de informática debido a su sintaxis clara y su poderosa funcionalidad. Universidades de todo el mundo han adoptado Python para enseñar conceptos de programación, análisis de datos, y machine learning, entre otros, debido a su sencillez y la profundidad de sus bibliotecas disponibles.\n"
      ]
    },
    {
      "cell_type": "markdown",
      "metadata": {
        "id": "sOA_dUraUlYj"
      },
      "source": [
        "# **Alcance de Python**\n",
        "\n",
        "#### **Facilidad de Uso y Flexibilidad**\n",
        "Su sintaxis clara y legible permite que los ingenieros y científicos, que quizás no son programadores expertos, puedan implementar y probar rápidamente algoritmos de control sin tener que lidiar con la complejidad de lenguajes de programación más bajos como C o C++.\n",
        "\n",
        "#### **Amplia Gama de Bibliotecas**\n",
        "Existen numerosas bibliotecas en Python que son especialmente útiles en el campo del control, como:\n",
        "- **control y control.matlab**: es un paquete de Python que implementa operaciones básicas para el análisis y diseño de sistemas de control realimentados. Su modulo control.matlab permite escribir con la sintaxis de MATLAB en cualquier entorno que use Python. Este modulo resulta muy util para programadores que usan MATLAB.\n",
        "- **NumPy y SciPy**: son librerías especializadas en operaciones matemáticas y cálculos científicos.\n",
        "- **Matplotlib**: Para visualización de datos, fundamental para el análisis de comportamientos de sistemas.\n",
        "- **Pandas**: es la librería mas famosa en manejo eficiente de grandes conjuntos de datos.\n",
        "- **Scikit-learn y TensorFlow**: Para implementar técnicas de aprendizaje automático en el control predictivo y adaptativo de sistemas.\n",
        "\n",
        "#### **Simulación y Modelado**\n",
        "Python es ampliamente utilizado en la simulación y el modelado de sistemas de control debido a su capacidad para integrar y manipular diferentes tipos de datos y algoritmos rápidamente. Herramientas como SimPy (simulación en procesos) y PyDSTool (análisis dinámico de sistemas) son ejemplos de cómo Python facilita la modelación y análisis de sistemas complejos en control.\n",
        "\n",
        "#### **Interfaz con Hardware**\n",
        "Python también puede interfazarse directamente con hardware a través de bibliotecas como PySerial o PyVISA para la automatización y el control de dispositivos de medición y actuadores. Esto es esencial en áreas donde el control en tiempo real y la recolección de datos son cruciales.\n",
        "\n",
        "#### **Integración y Automatización**\n",
        "Python se integra bien con otras plataformas y tecnologías, lo que permite automatizar completamente los sistemas de control y los flujos de trabajo de datos. Además, la capacidad de Python para funcionar en varios sistemas operativos y su integración con sistemas embebidos y microprocesadores (como Raspberry Pi) lo hace ideal para proyectos de IoT (Internet de las Cosas) relacionados con control y automatización.\n",
        "\n",
        "#### **Educación y Comunidad**\n",
        "La vasta comunidad de Python significa que existe un gran número de recursos de aprendizaje y foros para solucionar problemas. Esto es especialmente útil en campos técnicos como el control, donde compartir conocimientos y soluciones puede acelerar significativamente el desarrollo de proyectos.\n"
      ]
    },
    {
      "cell_type": "markdown",
      "metadata": {
        "id": "98aYxYjhQ8Eh"
      },
      "source": [
        "# **Introducción**\n",
        "\n",
        "Python es un lenguaje de programación de alto nivel y de propósito general. Es popular por su sintaxis simple y legible, lo que lo hace fácil de aprender y usar. Cuenta con una amplia gama de librerías y módulos disponibles, lo que permite su uso en una variedad de aplicaciones, desde Data Science y Machine Learning hasta desarrollo web y automatización de tareas. Es un lenguaje de código abierto y multiplataforma, lo que significa que puede ser utilizado en diferentes sistemas operativos.\n",
        "\n",
        "### **Aspectos generales:**\n",
        "\n",
        "*   \n",
        "Todas las variables en Python están asociadas a sus respectivas clases y pueden ser **mutables** o **inmutables**. Las variables **mutables** permiten la variación de su valor una vez asignado y no se modifica su ubicación en la memoria RAM cada vez que se usa. Por el contrario, las variables **inmutables** no se les puede cambiar su valor una vez asignado y se crea una nueva ubicación en la memoria RAM cada vez que se usa.\n",
        "\n",
        "*   \n",
        "Se recomienda emplear **snake case** para nombrar las variables en Python. Esto significa que se utilizan guiones bajos para separar palabras dentro de un nombre. Por ejemplo, podemos nombrar nuestras variables como: mi_variable, funcion_transferencia, vector_tiempo, senal_cosenoidal.\n",
        "\n",
        "*   \n",
        "Los valores de las variables se pueden mostrar en pantalla con el comando **print()**, haciendo uso de **f-string (f' ')** para facilitar la interpolación de variables dentro de una cadena. Esto permite que sea más sencillo y legible insertar variables en una cadena. Además, la aparición de **\\n** en una cadena representa un salto de línea en ésta.\n",
        "\n",
        "*   \n",
        "Con el atajo **Ctrl** + **Space** activamos la ayuda de sugerencias de autocompletado que brinda el entorno colab. Esto significa que se mostrará una lista con las sugerencias asociadas a lo que se está escribiendo, lo cual nos permite ahorrar tiempo y esfuerzo al momento de programar. Esto hace que la escritura del código sea mucho más ágil y eficiente.\n",
        "\n",
        "*   \n",
        "Cuando se presiona **Ctrl** + **Enter**, la celda actual se ejecutará y se mostrarán los resultados. Esta es una forma rápida de probar y ejecutar código sin necesidad de ejecutar todo el código del documento.\n",
        "\n",
        "---\n",
        "\n"
      ]
    },
    {
      "cell_type": "code",
      "execution_count": 47,
      "metadata": {
        "colab": {
          "base_uri": "https://localhost:8080/"
        },
        "id": "HaxT-PAbRUYj",
        "outputId": "abc9a4c5-a651-4ac9-e6ca-0352da0d236d"
      },
      "outputs": [
        {
          "name": "stdout",
          "output_type": "stream",
          "text": [
            "Hello world\n"
          ]
        }
      ],
      "source": [
        "print(\"Hello world\")\n"
      ]
    },
    {
      "cell_type": "markdown",
      "metadata": {
        "id": "ACw6rIRhyg1x"
      },
      "source": [
        "## **Librerías y sus métodos**\n",
        "\n",
        "Las librerías son \"complementos\" que permiten añadir funciones a Python que no vienen en la interfaz por defecto.\n",
        "\n",
        "Los nombres \"np\" y \"plt\" son abreviaciones (apodos) de las librerías y se pueden llamar como tú prefieras.\n",
        "Por convención, se suele usar estás abreviaciones para fácilitar la escritura del código. Vamos a importar las librerias de interes para el curso de la siguiente manera:"
      ]
    },
    {
      "cell_type": "code",
      "execution_count": 48,
      "metadata": {
        "id": "wIEoFSYdyhSH"
      },
      "outputs": [],
      "source": [
        "\n",
        "import numpy as np                # Importamos la librería Numpy\n",
        "import matplotlib.pyplot as plt   # Importamos la libreria MatPlotLib\n",
        "import scipy as sp                # Importamos la libreria SciPy"
      ]
    },
    {
      "cell_type": "markdown",
      "metadata": {
        "id": "8imrHMjZoubj"
      },
      "source": [
        "Cada librería tiene un catálogo de códigos que nos permiten realizar diversas funciones y\n",
        "trabajar en conjunto con otras librerías para aprovechar el entorno de Python.\n",
        "\n",
        "**Para llamar, invocar o usar una función de una librería tenemos que colocar el identificador (o apodo) primero, un punto (.) y luego el nombre de esta**\n",
        "\n",
        "*La función \"arange\" de numpy permite crear un arreglo de números (vectores). Esta función tiene la siguiente estructura:*\n",
        "\n",
        "```python\n",
        "arange([inicio],[final],[paso])\n",
        "```\n",
        "\n",
        "*Donde el inicio y el final marcan los límites del arreglo y el paso determina la cantidad de muestras que se van a tomar entre estos límites.*"
      ]
    },
    {
      "cell_type": "code",
      "execution_count": 49,
      "metadata": {
        "colab": {
          "base_uri": "https://localhost:8080/"
        },
        "id": "CrFmbc3Gq2tX",
        "outputId": "738734cb-26be-4c61-d11f-0e24b41f8d0d"
      },
      "outputs": [
        {
          "name": "stdout",
          "output_type": "stream",
          "text": [
            "t = [0 2 4 6 8]\n"
          ]
        }
      ],
      "source": [
        "# Prueba correrlo, cambia los parámetros y mira el resultado!\n",
        "\n",
        "t = np.arange(0,10,2);\n",
        "print(f't = {t}')\n"
      ]
    },
    {
      "cell_type": "markdown",
      "metadata": {},
      "source": [
        "\n",
        "*La función \"linspace\" es muy parecida a la función \"arange\", ambas de numpy, la diferencia es que mediante la función linspace podemos crear arreglos de números cuyos datos están equiespaciados entre si. Esta función tiene la siguiente estructura:*\n",
        "\n",
        "```python\n",
        "linspace([inicio],[final],[paso])\n",
        "```\n",
        "\n",
        "*Podemos observar que la estructura es igual a la de la función \"arange\", sin embargo, para el caso de linspace el paso marca la separación entre los datos.*\n"
      ]
    },
    {
      "cell_type": "code",
      "execution_count": 50,
      "metadata": {
        "colab": {
          "base_uri": "https://localhost:8080/"
        },
        "id": "ApiOnXCss4Kd",
        "outputId": "0f4bbf0e-6507-45cb-e220-53f8d2d7ba2c"
      },
      "outputs": [
        {
          "name": "stdout",
          "output_type": "stream",
          "text": [
            "t = [   0.  250.  500.  750. 1000.]\n"
          ]
        }
      ],
      "source": [
        "# Prueba cambiar los límites y el paso y mira lo que ocurre!\n",
        "\n",
        "t = np.linspace(0,1000,5);\n",
        "print (f't = {t}')\n"
      ]
    },
    {
      "cell_type": "markdown",
      "metadata": {},
      "source": [
        "La librería numpy también cuenta con funciones famosas como lo son:"
      ]
    },
    {
      "cell_type": "code",
      "execution_count": 51,
      "metadata": {
        "colab": {
          "base_uri": "https://localhost:8080/",
          "height": 35
        },
        "id": "4nCbNVmCt_ta",
        "outputId": "4c33162f-624a-4f1f-d17d-566028f4aa62"
      },
      "outputs": [],
      "source": [
        "np.pi;    # El número pi\n",
        "np.sin;   # La función seno\n",
        "np.cos;   # La función coseno"
      ]
    },
    {
      "cell_type": "markdown",
      "metadata": {},
      "source": [
        "**Existen otras muchas funciones y complementos con los que cuenta esta librería**"
      ]
    },
    {
      "cell_type": "markdown",
      "metadata": {},
      "source": [
        "Veamos algunos comandos de la librería MatPlotLib:\n",
        "\n",
        "- **plt.plot()**: Nos permite gráficar funciones de numpy u otras librerías\n",
        "- **plt.grid()**: Cóloca una cuadrícula en la gráfica de las funciones\n",
        "- **plt.xlim()**: Nos permite definir límites para la gráfica en el eje de las abcisas\n",
        "- **plt.ylim()**: Nos permite definir límites para la gráfica en el eje de las ordenadas\n",
        "- **plt.show()**: Nos permite visualizar varias funciones en una sola gráfica"
      ]
    },
    {
      "cell_type": "markdown",
      "metadata": {
        "id": "8MVsjgwi3Uk5"
      },
      "source": [
        "## **Tipos de variables.**"
      ]
    },
    {
      "cell_type": "markdown",
      "metadata": {
        "id": "-pXnvBPW5Qh6"
      },
      "source": [
        "**Entero (int):** Estas variables almacenan números enteros, como -1, 0, 1, 2, etc."
      ]
    },
    {
      "cell_type": "code",
      "execution_count": 52,
      "metadata": {
        "colab": {
          "base_uri": "https://localhost:8080/"
        },
        "id": "ez9XUelg3UHx",
        "outputId": "af9694ab-e9bc-4002-d8f1-095cdf4c0213"
      },
      "outputs": [
        {
          "name": "stdout",
          "output_type": "stream",
          "text": [
            "Número int: 4.\n",
            "Clase de la variable: <class 'int'>\n"
          ]
        }
      ],
      "source": [
        "numero_entero = 4\n",
        "print(f'Número int: {numero_entero}.\\nClase de la variable: {type(numero_entero)}')\n"
      ]
    },
    {
      "cell_type": "markdown",
      "metadata": {
        "id": "HOS15Fmf5pSz"
      },
      "source": [
        "**Flotante (float):** Estas variables almacenan números con decimales, como 3.14, -2.5, etc.\n",
        "\n"
      ]
    },
    {
      "cell_type": "code",
      "execution_count": 53,
      "metadata": {
        "colab": {
          "base_uri": "https://localhost:8080/"
        },
        "id": "067Yf4Bi6T2f",
        "outputId": "273df5d9-9e52-43c2-d9f2-ccd2a8f35eef"
      },
      "outputs": [
        {
          "name": "stdout",
          "output_type": "stream",
          "text": [
            "Número float: 3.1415.\n",
            "Clase de la variable: <class 'float'>\n"
          ]
        }
      ],
      "source": [
        "numero_flotante = 3.1415\n",
        "print(f'Número float: {numero_flotante}.\\nClase de la variable: {type(numero_flotante)}')\n"
      ]
    },
    {
      "cell_type": "markdown",
      "metadata": {
        "id": "LHxfiOL66axR"
      },
      "source": [
        "**Cadena o String (str):** Estas variables almacenan cadenas de caracteres, como \"Hello world\", \"Python\", \"I love programming in Python\", etc."
      ]
    },
    {
      "cell_type": "code",
      "execution_count": 54,
      "metadata": {
        "colab": {
          "base_uri": "https://localhost:8080/"
        },
        "id": "EZt68HQj6zqz",
        "outputId": "db8566b1-957e-42d7-c0eb-ef7eaa184582"
      },
      "outputs": [
        {
          "name": "stdout",
          "output_type": "stream",
          "text": [
            "Cadena str: Soy una variable que almacena caracteres ;)\n",
            "Clase de la variable: <class 'str'>\n"
          ]
        }
      ],
      "source": [
        "cadena = \"Soy una variable que almacena caracteres ;)\"\n",
        "print(f'Cadena str: {cadena}\\nClase de la variable: {type(cadena)}')\n"
      ]
    },
    {
      "cell_type": "markdown",
      "metadata": {
        "id": "j0maHiGt60Xy"
      },
      "source": [
        "**Booleano (bool):** Estas variables almacenan valores booleano, como **True o False**"
      ]
    },
    {
      "cell_type": "code",
      "execution_count": 55,
      "metadata": {
        "colab": {
          "base_uri": "https://localhost:8080/"
        },
        "id": "ZpS2KyPZ7Mdo",
        "outputId": "f82b7243-5940-481d-da61-8d5eae03f5ae"
      },
      "outputs": [
        {
          "name": "stdout",
          "output_type": "stream",
          "text": [
            "Boolean: False\n",
            "Clase de la variable: <class 'bool'>\n"
          ]
        }
      ],
      "source": [
        "booleano = False\n",
        "print(f'Boolean: {booleano}\\nClase de la variable: {type(booleano)}')\n"
      ]
    },
    {
      "cell_type": "markdown",
      "metadata": {},
      "source": [
        "Una variable **booleana** tambien se puede expresar como una operación lógica, comparación y evaluacíon"
      ]
    },
    {
      "cell_type": "code",
      "execution_count": 56,
      "metadata": {
        "colab": {
          "base_uri": "https://localhost:8080/"
        },
        "id": "J0HQEkdtQljQ",
        "outputId": "9873ec15-a476-4ef6-ab7f-3fab73cdb7f7"
      },
      "outputs": [
        {
          "name": "stdout",
          "output_type": "stream",
          "text": [
            "La clase de la variable es: <class 'bool'> la variables es: False\n"
          ]
        }
      ],
      "source": [
        "mi_variable_booleana = 1 > 5\n",
        "print(f'La clase de la variable es: {type(mi_variable_booleana)} la variables es: {mi_variable_booleana}')\n",
        "# Imprime False, ¡pruebalo!\n"
      ]
    },
    {
      "cell_type": "markdown",
      "metadata": {},
      "source": [
        "## **Operadores y asignación de variables**"
      ]
    },
    {
      "cell_type": "markdown",
      "metadata": {},
      "source": [
        "### **Operadores aritméticos**\n",
        "\n",
        "Son símbolos especiales (+, -, *, /, //, %, **) que se utilizan para realizar operaciones matemáticas como suma, resta, multiplicación, división, entre otras."
      ]
    },
    {
      "cell_type": "code",
      "execution_count": 75,
      "metadata": {},
      "outputs": [
        {
          "name": "stdout",
          "output_type": "stream",
          "text": [
            "Operaciones aritmetica con los siguientes numeros: 11 y 7\n",
            "Resultado de la suma 11 mas 7 es 18\n",
            "Resultado de la resta 11 menos 7 es 4\n",
            "Resultado de la multiplicación entre 11 y 7 es 77\n",
            "Resultado de la división 11 sobre 7 es 1.5714285714285714\n",
            "Resultado de la división entera 11 sobre 7 es 1\n",
            "Resultado del módulo (residuo) entre 11 y 7 es 4\n",
            "Resultado de la exponenciación 11 elevado a 7 es 19487171\n"
          ]
        }
      ],
      "source": [
        "num1 = 11\n",
        "num2 = 7\n",
        "\n",
        "print(f'Operaciones aritmetica con los siguientes numeros: {num1} y {num2}')\n",
        "\n",
        "# Suma\n",
        "suma = num1 + num2\n",
        "print(f'Resultado de la suma {num1} mas {num2} es {suma}')\n",
        "\n",
        "# Resta\n",
        "resta = num1 - num2\n",
        "print(f'Resultado de la resta {num1} menos {num2} es {resta}')\n",
        "\n",
        "# Multiplicación\n",
        "multiplicacion = num1 * num2\n",
        "print(f'Resultado de la multiplicación entre {num1} y {num2} es {multiplicacion}')\n",
        "\n",
        "# División\n",
        "division = num1 / num2\n",
        "print(f'Resultado de la división {num1} sobre {num2} es {division}')\n",
        "\n",
        "# División entera\n",
        "division_entera = num1 // num2\n",
        "print(f'Resultado de la división entera {num1} sobre {num2} es {division_entera}')\n",
        "\n",
        "# Módulo\n",
        "modulo = num1 % num2\n",
        "print(f'Resultado del módulo (residuo) entre {num1} y {num2} es {modulo}')\n",
        "\n",
        "# Exponente\n",
        "exponenciacion = num1 ** num2\n",
        "print(f'Resultado de la exponenciación {num1} elevado a {num2} es {exponenciacion}')\n"
      ]
    },
    {
      "cell_type": "markdown",
      "metadata": {},
      "source": [
        "### **Operadores de asignación**\n",
        "\n",
        "Son símbolos (como =, +=, -=, *=, /=, entre otros) que se utilizan para asignar valores a variables y actualizar su valor al mismo tiempo con una operación específica."
      ]
    },
    {
      "cell_type": "code",
      "execution_count": 58,
      "metadata": {},
      "outputs": [
        {
          "name": "stdout",
          "output_type": "stream",
          "text": [
            "La variable inicial tiene un valor de 10\n",
            "\n",
            "El incremento fue de 7\n",
            "La asignación de incremento da como resultado: 17 ya que se incrementó 7\n",
            "\n",
            "La disminucion fue de 2\n",
            "La asignación de disminución da como resultado: 15 ya que disminuyó 2\n",
            "\n",
            "La asignación de multiplicacíon da como resultado: 30 ya que se multiplicó por 2\n",
            "La asignación de división da como resultado: 10.0 ya que se dividió por 3\n",
            "La asignación de división entera da como resultado: 2.0 ya que se dividió por 4\n",
            "\n"
          ]
        }
      ],
      "source": [
        "# Asignación de una variable\n",
        "my_variable = 10\n",
        "print(f'La variable inicial tiene un valor de {my_variable}\\n')\n",
        "\n",
        "# Asignación de incremento (my_variable + 7) [Reasignación]\n",
        "my_variable += 7\n",
        "# my_variable = my_variable + 7\n",
        "print(f'El incremento fue de 7')\n",
        "print(f'La asignación de incremento da como resultado: {my_variable} ya que se incrementó 7\\n')\n",
        "\n",
        "# Asignación de disminución (my_variable - 2) [Reasignación]\n",
        "my_variable -= 2\n",
        "# my_variable = my_variable + 7\n",
        "print(f'La disminucion fue de 2')\n",
        "print(f'La asignación de disminución da como resultado: {my_variable} ya que disminuyó 2\\n')\n",
        "\n",
        "# Asignación de multiplicación (my_variable * 2) [Reasignación]\n",
        "my_variable *= 2\n",
        "# my_variable = my_variable * 2\n",
        "print(f'La asignación de multiplicacíon da como resultado: {my_variable} ya que se multiplicó por 2')\n",
        "\n",
        "# Asignación de división (my_variable / 3) [Reasignación]\n",
        "# my_variable = my_variable / 3\n",
        "my_variable /= 3\n",
        "print(f'La asignación de división da como resultado: {my_variable} ya que se dividió por 3')\n",
        "\n",
        "# Asignación de división entera (my_variable // 4) [Reasignación]\n",
        "my_variable //= 4\n",
        "# my_variable = my_variable // 4\n",
        "print(f'La asignación de división entera da como resultado: {my_variable} ya que se dividió por 4')\n"
      ]
    },
    {
      "cell_type": "markdown",
      "metadata": {},
      "source": [
        "### **Asignación booleana**\n",
        "\n",
        "Implica asignar valores verdaderos o falsos (True o False) a variables según el resultado de una evaluación condicional (como ==, !=, >, >=, <, <=). "
      ]
    },
    {
      "cell_type": "code",
      "execution_count": 59,
      "metadata": {},
      "outputs": [
        {
          "name": "stdout",
          "output_type": "stream",
          "text": [
            "Los números en cuestion son: 3 y 4\n",
            "Resultado con el operador == es : False\n",
            "Resultado con el operador != es : True\n",
            "Resultado con el operador > es : False\n",
            "Resultado con el operador >= es : False\n",
            "Resultado con el operador < es : True\n",
            "Resultado con el operador <= es : True\n"
          ]
        }
      ],
      "source": [
        "# Definimos los siguientes números\n",
        "num1 = 3; num2 = 4\n",
        "\n",
        "print(f'Los números en cuestion son: {num1} y {num2}')\n",
        "\n",
        "booleano = num1 == num2\n",
        "print(f'Resultado con el operador == es : {booleano}')\n",
        "\n",
        "booleano = num1 != num2\n",
        "print(f'Resultado con el operador != es : {booleano}')\n",
        "\n",
        "booleano = num1 > num2\n",
        "print(f'Resultado con el operador > es : {booleano}')\n",
        "\n",
        "booleano = num1 >= num2\n",
        "print(f'Resultado con el operador >= es : {booleano}')\n",
        "\n",
        "booleano = num1 < num2\n",
        "print(f'Resultado con el operador < es : {booleano}')\n",
        "\n",
        "booleano = num1 <= num2\n",
        "print(f'Resultado con el operador <= es : {booleano}')\n"
      ]
    },
    {
      "cell_type": "markdown",
      "metadata": {
        "id": "U8wsTXKKew_G"
      },
      "source": [
        "## **Sentencias condicionales**\n",
        "\n",
        "Son estructuras de control que permiten la ejecución de un código basado en una condición:\n",
        "\n",
        "\n",
        "\n",
        "*   **if:** Se utiliza para ejecutar un bloque de código si la condición evaluada es verdadera.\n",
        "*   **elif:** Se utiliza para evaluar varias condiciones y ejecutar un bloque de código si alguna de las condiciones es verdadera.\n",
        "*   **else:** Se utiliza para ejecutar un bloque de código si la condición es falsa.\n",
        "\n",
        "\n",
        "\n",
        "\n",
        "\n",
        "\n",
        "\n",
        "\n",
        "\n",
        "\n"
      ]
    },
    {
      "cell_type": "code",
      "execution_count": 60,
      "metadata": {
        "colab": {
          "base_uri": "https://localhost:8080/"
        },
        "id": "GJ4X8tkdfd-X",
        "outputId": "d294802b-d762-47f2-b623-de8fe342d964"
      },
      "outputs": [
        {
          "name": "stdout",
          "output_type": "stream",
          "text": [
            "La temperatura está dentro del rango. No se requiere acción.\n"
          ]
        }
      ],
      "source": [
        "# Valor actual de la temperatura del sistema (podría provenir de un sensor)\n",
        "temperatura_actual = 75\n",
        "\n",
        "# Rango de temperatura deseado\n",
        "temperatura_minima = 70\n",
        "temperatura_maxima = 80\n",
        "\n",
        "# Verifica si la temperatura está por debajo del mínimo\n",
        "if temperatura_actual < temperatura_minima:\n",
        "    print(\"La temperatura está por debajo del mínimo. Encender calentador.\")\n",
        "elif temperatura_actual > temperatura_maxima:\n",
        "    print(\"La temperatura está por encima del máximo. Encender aire acondicionado.\")\n",
        "else:\n",
        "    print(\"La temperatura está dentro del rango. No se requiere acción.\")\n"
      ]
    },
    {
      "cell_type": "markdown",
      "metadata": {
        "id": "b6JXychUgDsz"
      },
      "source": [
        "## **Ciclos**\n",
        "Los ciclos se usan para realizar un conjunto de acciones repetidamente bajo ciertas condiciones y parámetros.\n"
      ]
    },
    {
      "cell_type": "markdown",
      "metadata": {
        "id": "qmflX_HbgN-1"
      },
      "source": [
        "### **Ciclo for**\n",
        "El ciclo **for** se usa para iterar sobre una secuencia objetos, como listas, tuplas. Los ciclos **for** se usan definiendo parámetros de iteración, así, veamos un ejemplo sencillo:"
      ]
    },
    {
      "cell_type": "code",
      "execution_count": 61,
      "metadata": {
        "colab": {
          "base_uri": "https://localhost:8080/"
        },
        "id": "6wuKgwZbrNbA",
        "outputId": "b447c319-9d6a-404d-b3bc-792565140669"
      },
      "outputs": [
        {
          "name": "stdout",
          "output_type": "stream",
          "text": [
            "El color es: rojo\n",
            "El color es: verde\n",
            "El color es: azul\n",
            "El color es: amarillo\n",
            "naranja: ¡No es un color válido!\n"
          ]
        }
      ],
      "source": [
        "colores = ['rojo', 'verde', 'azul', 'amarillo', \"naranja\"]\n",
        "colores_invalidos = ['naranja', 'morado']\n",
        "\n",
        "for color in colores:\n",
        "    if color in colores_invalidos:\n",
        "        print(f'{color}: ¡No es un color válido!')\n",
        "    else:\n",
        "        print(f'El color es: {color}')\n"
      ]
    },
    {
      "cell_type": "markdown",
      "metadata": {},
      "source": [
        "Ahora, aquí tenemos un ejemplo sencillo de un código que utiliza un ciclo **for** junto con la función **range()**. "
      ]
    },
    {
      "cell_type": "code",
      "execution_count": 76,
      "metadata": {},
      "outputs": [
        {
          "name": "stdout",
          "output_type": "stream",
          "text": [
            "La suma de los primeros 100 números enteros es 5050\n"
          ]
        }
      ],
      "source": [
        "# Definirmos el número de términos a sumar\n",
        "n = 100\n",
        "\n",
        "# Creamos una variable llamada suma y le asignamos el valor 0\n",
        "suma = 0\n",
        "\n",
        "# Ciclo for para iterar sobre una secuencia de números desde 1 hasta n (inclusive)\n",
        "for i in range(1, n+1):\n",
        "    suma += i\n",
        "\n",
        "print(f'La suma de los primeros {n} números enteros es {suma}')\n"
      ]
    },
    {
      "cell_type": "markdown",
      "metadata": {
        "id": "uPKiPA0xgSJu"
      },
      "source": [
        "### **Ciclo while**\n",
        "Por otro lado, el ciclo while se usa para ejecutar repetidamente un conjunto de instrucciones bajo unos condicionales o de manera infinita (esto último no es muy práctico)."
      ]
    },
    {
      "cell_type": "code",
      "execution_count": 63,
      "metadata": {
        "colab": {
          "base_uri": "https://localhost:8080/"
        },
        "id": "Wo1fwsAJs01w",
        "outputId": "8eaf898b-2abb-4ec7-867c-38f37fbdcd45"
      },
      "outputs": [
        {
          "name": "stdout",
          "output_type": "stream",
          "text": [
            "El valor RMS de la señal es: 0.7071067811865476\n"
          ]
        }
      ],
      "source": [
        "# Veamos un ejemplo de como funcionan los ciclos while:\n",
        "from numpy import arange, sin, pi, sqrt    # importamos especificamente las funciones que vamos a usar\n",
        "\n",
        "# Generamos una onda seno con frecuencia de 100 Hz y amplitud de 1\n",
        "\n",
        "fs = 100                      # Definimos una frecuencia de muestreo\n",
        "t = arange(0, 1, 1/fs)        # Generamos un vector de tiempo con paso igual al periodo de muetreo\n",
        "x = sin(2*pi*2*t)             # Generamos la onda seno\n",
        "\n",
        "# Vamos a calcular el valor RMS de la señal usando un ciclo while\n",
        "\n",
        "i = 0                            # Definimos nuestra variable de iteración\n",
        "N = len(x)                       # con la función len calculamos el tamaño de la variable x\n",
        "sum_cuadrada = 0                 # Creamos una variable para guardar las sumas de los cuadrados\n",
        "\n",
        "while i < N:\n",
        "    sum_cuadrada += x[i]**2      # Añadimos la suma de los cuadrados de la variable x en cada iteración\n",
        "    i += 1                       # Añadimos el incremento a la variable de iteración\n",
        "rms = sqrt(sum_cuadrada/N)       # De esta forma cálculamos el valor rms de la señal seno\n",
        "\n",
        "print(f'El valor RMS de la señal es: {rms}')\n"
      ]
    },
    {
      "cell_type": "markdown",
      "metadata": {
        "id": "FwaptGArgXMl"
      },
      "source": [
        "## **Lista y tuplas**"
      ]
    },
    {
      "cell_type": "markdown",
      "metadata": {
        "id": "kKwz0W319YAj"
      },
      "source": [
        "### **Listas**\n",
        "Una lista es un conjunto de elementos (variables). Las listas son mutables.\n"
      ]
    },
    {
      "cell_type": "code",
      "execution_count": 64,
      "metadata": {
        "colab": {
          "base_uri": "https://localhost:8080/"
        },
        "id": "047b3VhcgevF",
        "outputId": "b48a7eef-b3cc-4c43-d27d-f3d1cdfc058a"
      },
      "outputs": [
        {
          "name": "stdout",
          "output_type": "stream",
          "text": [
            "------------------------------ LISTAS (mutables) -------------------------------\n",
            "\n",
            "Lista original: ['Juan', 'Karla', 'Maria', 'Ricardo', 0, 100, 13.123, True]\n",
            "Elementos de la lista name[1:5] sin incluir el indice: ['Karla', 'Maria', 'Ricardo', 0]\n",
            "\n",
            "['Juan', 'Karla', 'Maria', 'Ivone', 0, 100, 13.123, True]\n",
            "Iterando... Juan\n",
            "Iterando... Karla\n",
            "Iterando... Maria\n",
            "Iterando... Ivone\n",
            "Iterando... 0\n",
            "Iterando... 100\n",
            "Iterando... 13.123\n",
            "Iterando... True\n",
            "No existen mas elementos en la lista\n",
            "\n",
            "La cantidad de elementos de la lista es: 8\n",
            "\n",
            "['Juan', 'Karla', 'Maria', 'Ivone', 0, 100, 13.123, True, 'Lorenzo']\n",
            "['Juan', 'Octavio', 'Karla', 'Maria', 'Ivone', 0, 100, 13.123, True, 'Lorenzo']\n",
            "['Juan', 'Octavio', 'Karla', 'Ivone', 0, 100, 13.123, True, 'Lorenzo']\n",
            "['Juan', 'Octavio', 'Karla', 'Ivone', 0, 100, 13.123, True]\n",
            "['Octavio', 'Karla', 'Ivone', 0, 100, 13.123, True]\n",
            "[]\n"
          ]
        }
      ],
      "source": [
        "# Nombres --> list ['Juan', 'Karla', 'Maria', 'Ricardo']\n",
        "#                    (0)      (1)      (2)       (3)\n",
        "\n",
        "print(' LISTAS (mutables) '.center(80,'-'))\n",
        "\n",
        "name = ['Juan', 'Karla', 'Maria', 'Ricardo', 0, 100, 13.123, True]\n",
        "print(f'''\n",
        "Lista original: {name}\n",
        "Elementos de la lista name[1:5] sin incluir el indice: {name[1:5]}\n",
        "''')\n",
        "\n",
        "# Cambiar un valor\n",
        "name[3] = 'Ivone'\n",
        "print(name)\n",
        "\n",
        "# Iterar una lista\n",
        "for i in name:\n",
        "    print(f'Iterando... {i}')\n",
        "else:\n",
        "    print('No existen mas elementos en la lista\\n')\n",
        "\n",
        "# Saber la cantidad de elementos que contiene una lista\n",
        "print(f'La cantidad de elementos de la lista es: {len(name)}\\n')\n",
        "\n",
        "# Agregar elementos al final de una lista\n",
        "name.append('Lorenzo')\n",
        "print(name)\n",
        "\n",
        "# Insertar un elemento en un indice especifico (los demas elementos se mueven a la derecha)\n",
        "name.insert(1, 'Octavio')\n",
        "print(name)\n",
        "\n",
        "# Remover un elemento\n",
        "name.remove('Maria')\n",
        "print(name)\n",
        "\n",
        "# Remover el ultimo valor agregado\n",
        "name.pop()\n",
        "print(name)\n",
        "\n",
        "# Eliminar un indice (los demas elementos se mueven a la izquierda)\n",
        "del name[0]\n",
        "print(name)\n",
        "\n",
        "# Eliminar todos los elementos de la lista\n",
        "name.clear()\n",
        "print(name)\n",
        "\n"
      ]
    },
    {
      "cell_type": "markdown",
      "metadata": {
        "id": "n45jouUF9zcu"
      },
      "source": [
        "### **Tuplas**\n",
        "Una tupla sigue guardando el orden de los elementos, al igual que las lista, pero estos elementos no se pueden modificar, eliminar o agregar (variable inmutable).\n",
        "Las funciones append(), remove(), insert(), etc. no son validas para las tuplas."
      ]
    },
    {
      "cell_type": "code",
      "execution_count": 65,
      "metadata": {
        "colab": {
          "base_uri": "https://localhost:8080/"
        },
        "id": "rexvIqej9FAW",
        "outputId": "00062bd7-9f68-4789-e928-dd5d2796449f"
      },
      "outputs": [
        {
          "name": "stdout",
          "output_type": "stream",
          "text": [
            "----------------------------- TUPLAS (inmutables) ------------------------------\n",
            "Tupla: ('Naranja', 'Platano', 43000, True)\n",
            "La cantidad de elementos de la tupla es: 4\n",
            "\n",
            "Indice 0 de la tupla: Naranja\n",
            "Rango [0:2] de la tupla (sin incluir el ultimo indice): ('Naranja', 'Platano') \n",
            "\n",
            "Iterando Naranja - Iterando Platano - Iterando 43000 - Iterando True - \n",
            "\"Cambiando\" el valor de una tupla: ('Pera', 'Platano', 43000, True)\n",
            "\n"
          ]
        }
      ],
      "source": [
        "# frutas = tuple ('Naranja', 'Platano', 43000, True)\n",
        "#                    (0)        (1)      (2)   (3)\n",
        "\n",
        "print(' TUPLAS (inmutables) '.center(80,'-'))\n",
        "\n",
        "frutas = ('Naranja', 'Platano', 43000, True)\n",
        "print(f'Tupla: {frutas}')\n",
        "\n",
        "# Saber la cantidad de elementos de una tupla\n",
        "print(f'La cantidad de elementos de la tupla es: {len(frutas)}\\n')\n",
        "\n",
        "# Acceder a un elemento en particular\n",
        "print('Indice 0 de la tupla:',frutas[0])\n",
        "\n",
        "# Acceder a un rango (Sin incluir el ultimo indice)\n",
        "print('Rango [0:2] de la tupla (sin incluir el ultimo indice):', frutas[0:2], '\\n')\n",
        "\n",
        "# Recorrer elementos\n",
        "for fruta in frutas:\n",
        "    print('Iterando',fruta, end = ' - ')\n",
        "\n",
        "# \"Cambiar un valor a una tupla\"\n",
        "fruta_lista = list(frutas)\n",
        "fruta_lista[0] = 'Pera'\n",
        "frutas = tuple(fruta_lista)\n",
        "print(f'''\n",
        "\"Cambiando\" el valor de una tupla: {frutas}\n",
        "''')\n"
      ]
    },
    {
      "cell_type": "markdown",
      "metadata": {
        "id": "nFjHmBV7qqzO"
      },
      "source": [
        "### **Funciones**\n",
        "Las funciones en Python son bloques de código que se diseñan para realizar una tarea específica, y pueden ser reutilizadas a lo largo de tu programa.\n",
        "\n",
        "1. Definición de una función en Python:\n",
        "\n",
        "\n",
        "*   Se utiliza la palabra clave `def` seguida del nombre de la función y paréntesis que pueden incluir parámetros. Los bloques de código dentro de la función deben estar indentados. Ejemplo: `def my_function(param1, param2):`\n",
        "\n",
        "*   Los parámetros son variables que actúan como los valores que pasas a la función.\n",
        "\n",
        "*   El cuerpo de la función es donde escribe la lógica principal de la función. Ejemplo:\n",
        "```python\n",
        "    def my_function(param1, param2):\n",
        "      print(f'El parametro 1 es: {param1}') # Este es el cuerpo\n",
        "      print(f'El parametro 2 es: {param2}') # de la función\n",
        "```\n",
        "*   La palabra clave `return` se utiliza para devolver un resultado desde la función al lugar donde fue llamada. Una función puede retornar cualquier tipo de dato y hasta múltiples valores. Ejemplo:\n",
        "```python\n",
        "    def add(number1, number2):\n",
        "      return number1 + number2\n",
        "```\n",
        "\n",
        "\n",
        "2. Llamada a la Función\n",
        "Para usar una función, simplemente llama su nombre seguido de paréntesis que pueden contener argumentos específicos. Ejemplo:\n",
        "\n",
        "  ```python\n",
        "    resultado_suma = add(2,5)\n",
        "    print(resultado_suma)\n",
        "  ```\n",
        "\n",
        "  ```python\n",
        "    my_function(2,5)\n",
        "  ```\n",
        "\n",
        "Ventajas de usar funciones:\n",
        "\n",
        "\n",
        "\n",
        "*   ***Modularidad:*** Permite dividir tu programa en secciones pequeñas y manejables.\n",
        "*   ***Reutilización de código:*** Una vez definida, una función puede ser utilizada muchas veces, en diferentes partes del programa o incluso en diferentes programas.\n"
      ]
    },
    {
      "cell_type": "code",
      "execution_count": 77,
      "metadata": {
        "colab": {
          "base_uri": "https://localhost:8080/"
        },
        "id": "kqR42GKYw1gv",
        "outputId": "5ee57766-dbab-4f6e-b574-a3b03497b0c0"
      },
      "outputs": [
        {
          "name": "stdout",
          "output_type": "stream",
          "text": [
            "El área del triángulo con base 5.0 y altura 3.0 es 7.5\n"
          ]
        }
      ],
      "source": [
        "# Función que calcula el área del triángulo\n",
        "\n",
        "def area_triangulo(base, altura):\n",
        "    return abs((base * altura) / 2)\n",
        "\n",
        "base = 5.0\n",
        "altura = 3.0\n",
        "area = area_triangulo(base, altura)\n",
        "print(f\"El área del triángulo con base {base} y altura {altura} es {area}\")\n"
      ]
    }
  ],
  "metadata": {
    "colab": {
      "provenance": []
    },
    "kernelspec": {
      "display_name": "Python 3",
      "name": "python3"
    },
    "language_info": {
      "codemirror_mode": {
        "name": "ipython",
        "version": 3
      },
      "file_extension": ".py",
      "mimetype": "text/x-python",
      "name": "python",
      "nbconvert_exporter": "python",
      "pygments_lexer": "ipython3",
      "version": "3.10.12"
    }
  },
  "nbformat": 4,
  "nbformat_minor": 0
}
